{
 "cells": [
  {
   "cell_type": "code",
   "execution_count": 1,
   "metadata": {},
   "outputs": [],
   "source": [
    "import pandas as pd\n",
    "import numpy as np\n",
    "import os\n",
    "from matplotlib import pyplot as plt  "
   ]
  },
  {
   "cell_type": "markdown",
   "metadata": {},
   "source": [
    "#### update HUC_events with new ERA5 WT\n",
    " because I don't have the permission to over write the original files, I wrote them to dir_o"
   ]
  },
  {
   "cell_type": "code",
   "execution_count": 2,
   "metadata": {},
   "outputs": [],
   "source": [
    "dir_i   = '/glade/campaign/mmm/c3we/COEXIST/ERA5_events/ERA5_events/HUC_events'\n",
    "dir_o   = '/glade/campaign/mmm/c3we/mingge/COEXIST/ERA5/HUC_events/'\n",
    "flnm_wt = '/glade/campaign/mmm/c3we/mingge/COEXIST/ERA5/WT_1979-2021/CONUS-WTs_ERA5_1979-2021.cla'"
   ]
  },
  {
   "cell_type": "code",
   "execution_count": 3,
   "metadata": {},
   "outputs": [],
   "source": [
    "# read new weather type file without header \n",
    "df_wt = pd.read_csv(flnm_wt, delimiter = '\\t', header=None,  names=[\"year\", \"month\", \"day\", \"wt\"])\n",
    "\n",
    "# add numpy index  \n",
    "yyyymmdd = df_wt.year*10000 + df_wt.month*100 + df_wt.day\n",
    "yyyymmdd_np = yyyymmdd.to_numpy()\n",
    "df_wt.index = yyyymmdd_np"
   ]
  },
  {
   "cell_type": "code",
   "execution_count": 5,
   "metadata": {},
   "outputs": [
    {
     "name": "stdout",
     "output_type": "stream",
     "text": [
      "read in  /glade/campaign/mmm/c3we/COEXIST/ERA5_events/ERA5_events/HUC_events/ERA5_accumulated_daily_pr_p99_2d_events_1979-2019_RedAndOuachita.txt\n",
      "updated to  /glade/campaign/mmm/c3we/mingge/COEXIST/ERA5/HUC_events/ERA5_accumulated_daily_pr_p99_2d_events_1979-2019_RedAndOuachita.txt\n",
      "read in  /glade/campaign/mmm/c3we/COEXIST/ERA5_events/ERA5_events/HUC_events/ERA5_accumulated_daily_pr_p99_2d_events_1979-2019_Southeast.txt\n",
      "updated to  /glade/campaign/mmm/c3we/mingge/COEXIST/ERA5/HUC_events/ERA5_accumulated_daily_pr_p99_2d_events_1979-2019_Southeast.txt\n",
      "read in  /glade/campaign/mmm/c3we/COEXIST/ERA5_events/ERA5_events/HUC_events/ERA5_accumulated_daily_pr_p99_2d_events_1979-2019_GreatLakes.txt\n",
      "updated to  /glade/campaign/mmm/c3we/mingge/COEXIST/ERA5/HUC_events/ERA5_accumulated_daily_pr_p99_2d_events_1979-2019_GreatLakes.txt\n",
      "read in  /glade/campaign/mmm/c3we/COEXIST/ERA5_events/ERA5_events/HUC_events/ERA5_accumulated_daily_pr_p99_2d_events_1979-2019_Columbia.txt\n",
      "updated to  /glade/campaign/mmm/c3we/mingge/COEXIST/ERA5/HUC_events/ERA5_accumulated_daily_pr_p99_2d_events_1979-2019_Columbia.txt\n",
      "read in  /glade/campaign/mmm/c3we/COEXIST/ERA5_events/ERA5_events/HUC_events/ERA5_accumulated_daily_pr_p99_2d_events_1979-2019_UpperMissouri.txt\n",
      "updated to  /glade/campaign/mmm/c3we/mingge/COEXIST/ERA5/HUC_events/ERA5_accumulated_daily_pr_p99_2d_events_1979-2019_UpperMissouri.txt\n",
      "read in  /glade/campaign/mmm/c3we/COEXIST/ERA5_events/ERA5_events/HUC_events/ERA5_accumulated_daily_pr_p99_2d_events_1979-2019_Colorado.txt\n",
      "updated to  /glade/campaign/mmm/c3we/mingge/COEXIST/ERA5/HUC_events/ERA5_accumulated_daily_pr_p99_2d_events_1979-2019_Colorado.txt\n",
      "read in  /glade/campaign/mmm/c3we/COEXIST/ERA5_events/ERA5_events/HUC_events/ERA5_accumulated_daily_pr_p99_2d_events_1979-2019_RedRiver.txt\n",
      "updated to  /glade/campaign/mmm/c3we/mingge/COEXIST/ERA5/HUC_events/ERA5_accumulated_daily_pr_p99_2d_events_1979-2019_RedRiver.txt\n",
      "read in  /glade/campaign/mmm/c3we/COEXIST/ERA5_events/ERA5_events/HUC_events/ERA5_accumulated_daily_pr_p99_2d_events_1979-2019_UpperMississippi.txt\n",
      "updated to  /glade/campaign/mmm/c3we/mingge/COEXIST/ERA5/HUC_events/ERA5_accumulated_daily_pr_p99_2d_events_1979-2019_UpperMississippi.txt\n",
      "read in  /glade/campaign/mmm/c3we/COEXIST/ERA5_events/ERA5_events/HUC_events/ERA5_accumulated_daily_pr_p99_2d_events_1979-2019_SacramentoAndKlamath.txt\n",
      "updated to  /glade/campaign/mmm/c3we/mingge/COEXIST/ERA5/HUC_events/ERA5_accumulated_daily_pr_p99_2d_events_1979-2019_SacramentoAndKlamath.txt\n",
      "read in  /glade/campaign/mmm/c3we/COEXIST/ERA5_events/ERA5_events/HUC_events/ERA5_accumulated_daily_pr_p99_2d_events_1979-2019_GreatBasin.txt\n",
      "updated to  /glade/campaign/mmm/c3we/mingge/COEXIST/ERA5/HUC_events/ERA5_accumulated_daily_pr_p99_2d_events_1979-2019_GreatBasin.txt\n",
      "read in  /glade/campaign/mmm/c3we/COEXIST/ERA5_events/ERA5_events/HUC_events/ERA5_accumulated_daily_pr_p99_2d_events_1979-2019_Ohio.txt\n",
      "updated to  /glade/campaign/mmm/c3we/mingge/COEXIST/ERA5/HUC_events/ERA5_accumulated_daily_pr_p99_2d_events_1979-2019_Ohio.txt\n",
      "read in  /glade/campaign/mmm/c3we/COEXIST/ERA5_events/ERA5_events/HUC_events/ERA5_accumulated_daily_pr_p99_2d_events_1979-2019_LowerMissouri.txt\n",
      "updated to  /glade/campaign/mmm/c3we/mingge/COEXIST/ERA5/HUC_events/ERA5_accumulated_daily_pr_p99_2d_events_1979-2019_LowerMissouri.txt\n",
      "read in  /glade/campaign/mmm/c3we/COEXIST/ERA5_events/ERA5_events/HUC_events/ERA5_accumulated_daily_pr_p99_2d_events_1979-2019_NorthAtlantic.txt\n",
      "updated to  /glade/campaign/mmm/c3we/mingge/COEXIST/ERA5/HUC_events/ERA5_accumulated_daily_pr_p99_2d_events_1979-2019_NorthAtlantic.txt\n",
      "read in  /glade/campaign/mmm/c3we/COEXIST/ERA5_events/ERA5_events/HUC_events/ERA5_accumulated_daily_pr_p99_2d_events_1979-2019_Texas.txt\n",
      "updated to  /glade/campaign/mmm/c3we/mingge/COEXIST/ERA5/HUC_events/ERA5_accumulated_daily_pr_p99_2d_events_1979-2019_Texas.txt\n",
      "read in  /glade/campaign/mmm/c3we/COEXIST/ERA5_events/ERA5_events/HUC_events/ERA5_accumulated_daily_pr_p99_2d_events_1979-2019_Arkansas.txt\n",
      "updated to  /glade/campaign/mmm/c3we/mingge/COEXIST/ERA5/HUC_events/ERA5_accumulated_daily_pr_p99_2d_events_1979-2019_Arkansas.txt\n",
      "read in  /glade/campaign/mmm/c3we/COEXIST/ERA5_events/ERA5_events/HUC_events/ERA5_accumulated_daily_pr_p99_2d_events_1979-2019_CoastalBasinsNP.txt\n",
      "updated to  /glade/campaign/mmm/c3we/mingge/COEXIST/ERA5/HUC_events/ERA5_accumulated_daily_pr_p99_2d_events_1979-2019_CoastalBasinsNP.txt\n",
      "read in  /glade/campaign/mmm/c3we/COEXIST/ERA5_events/ERA5_events/HUC_events/ERA5_accumulated_daily_pr_p99_2d_events_1979-2019_LowerMississippi.txt\n",
      "updated to  /glade/campaign/mmm/c3we/mingge/COEXIST/ERA5/HUC_events/ERA5_accumulated_daily_pr_p99_2d_events_1979-2019_LowerMississippi.txt\n",
      "read in  /glade/campaign/mmm/c3we/COEXIST/ERA5_events/ERA5_events/HUC_events/ERA5_accumulated_daily_pr_p99_2d_events_1979-2019_RioGrande.txt\n",
      "updated to  /glade/campaign/mmm/c3we/mingge/COEXIST/ERA5/HUC_events/ERA5_accumulated_daily_pr_p99_2d_events_1979-2019_RioGrande.txt\n"
     ]
    }
   ],
   "source": [
    "# events file header\n",
    "name_s = [\"date\", \"event_id\", \"year\", \"season\", \"day_no\", \"center_lat\", \"center_lon\", \"area\", \"frag_2d\", \"total_precip_2d\", \"avg_precip_2d\", \"max_precip_2d\", \"pre_FWI\", \"FWI\", \"post_FWI\", \"weather_type\", \"HUC2\"]\n",
    "\n",
    "# iterate over files in directory\n",
    "for filename in os.listdir(dir_i):\n",
    "    flnm = os.path.join(dir_i, filename)\n",
    "     \n",
    "    # checking if the file in that directory it is a valid file\n",
    "    if os.path.isfile(flnm):\n",
    "        print('read in ', flnm)\n",
    "        events = pd.read_csv(flnm, delimiter = ' ', names=name_s)\n",
    "        date_s = events.date.values[1:]\n",
    "        # used for numpy indexing of WT dataframe\n",
    "        date_i = [int(x) for x in date_s] \n",
    "        \n",
    "        # select \n",
    "        wts = df_wt.loc[date_i]['wt'].values\n",
    "         \n",
    "        events['weather_type'].values[1:] = wts\n",
    "        \n",
    "        print('updated to ', dir_o+filename)\n",
    "        events.to_csv(dir_o + filename, sep= ' ', index=False, header=False)\n",
    "                 "
   ]
  },
  {
   "cell_type": "code",
   "execution_count": null,
   "metadata": {},
   "outputs": [],
   "source": []
  }
 ],
 "metadata": {
  "kernelspec": {
   "display_name": "NPL3 (casper_2020)",
   "language": "python",
   "name": "npl3-casper_2020"
  },
  "language_info": {
   "codemirror_mode": {
    "name": "ipython",
    "version": 3
   },
   "file_extension": ".py",
   "mimetype": "text/x-python",
   "name": "python",
   "nbconvert_exporter": "python",
   "pygments_lexer": "ipython3",
   "version": "3.9.6"
  }
 },
 "nbformat": 4,
 "nbformat_minor": 5
}
